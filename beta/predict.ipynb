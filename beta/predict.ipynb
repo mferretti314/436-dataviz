{
 "cells": [
  {
   "cell_type": "code",
   "execution_count": 3,
   "metadata": {},
   "outputs": [],
   "source": [
    "import pandas as pd\n",
    "import numpy\n",
    "\n",
    "temps = pd.read_csv(\"temperature_anomaly_annual.csv\")\n",
    "dis = pd.read_csv(\"disasters_cumulative.csv\")\n",
    "co2pcc = pd.read_csv(\"co2_per_capita_cumulative_data.csv\")\n",
    "co2pc = pd.read_csv(\"co2_per_capita_data.csv\")\n",
    "co2a = pd.read_csv(\"co2_annual_data.csv\")\n",
    "co2c = pd.read_csv(\"co2_cumulative_data.csv\")"
   ]
  },
  {
   "cell_type": "code",
   "execution_count": 20,
   "metadata": {},
   "outputs": [
    {
     "name": "stdout",
     "output_type": "stream",
     "text": [
      "0       4.203135\n",
      "1       4.918712\n",
      "2      94.920000\n",
      "3       0.301769\n",
      "4      12.664308\n",
      "         ...    \n",
      "210    89.893788\n",
      "211     0.015327\n",
      "212    12.012385\n",
      "213     3.636558\n",
      "214    11.400692\n",
      "Length: 215, dtype: float64\n"
     ]
    }
   ],
   "source": [
    "# step 1\n",
    "# calculate average change over last 10 years\n",
    "\n",
    "print(avg)\n",
    "\n",
    "for frame in [dis, co2pcc, co2pc, co2a, co2c]:\n",
    "    # bootleg way of getting a column with zeroes\n",
    "    avg = frame['2022'] - frame['1970']\n",
    "    avg = avg * (1.0/52.0)\n",
    "    avg.fillna(0)\n",
    "    # calculate average difference between each year\n",
    "    #for i in range(0,15):\n",
    "    #    avg = avg + (temps[str(2022-i)] - temps[str(2022-1-i)])\n",
    "    #avg = avg * 0.066667\n",
    "\n",
    "    # add 20 years of predictions onto the end\n",
    "    for i in range(0,18):\n",
    "        frame[str(2023+i)] = frame[str(2022+i)] + avg\n",
    "\n",
    "for i in range(0,18):\n",
    "    temps[str(2023+i)] = temps[str(2022+i)] + 0.06\n",
    "temps.to_csv(\"temperature_anomaly_annual_p.csv\")\n",
    "dis.to_csv(\"disasters_cumulative_p.csv\")\n",
    "co2pcc.to_csv(\"co2_per_capita_cumulative_data_p.csv\")\n",
    "co2pc.to_csv(\"co2_per_capita_data_p.csv\")\n",
    "co2a.to_csv(\"co2_annual_data_p.csv\")\n",
    "co2c.to_csv(\"co2_cumulative_data_p.csv\")"
   ]
  }
 ],
 "metadata": {
  "kernelspec": {
   "display_name": "Python 3",
   "language": "python",
   "name": "python3"
  },
  "language_info": {
   "codemirror_mode": {
    "name": "ipython",
    "version": 3
   },
   "file_extension": ".py",
   "mimetype": "text/x-python",
   "name": "python",
   "nbconvert_exporter": "python",
   "pygments_lexer": "ipython3",
   "version": "3.12.3"
  }
 },
 "nbformat": 4,
 "nbformat_minor": 2
}
